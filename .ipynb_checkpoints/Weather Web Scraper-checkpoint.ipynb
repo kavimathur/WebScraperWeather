{
 "cells": [
  {
   "cell_type": "markdown",
   "metadata": {},
   "source": [
    "#  Scraping the 10-Day Forecast from Weather.com\n",
    "\n",
    "This notebook takes the New York City 10 day forecast page (https://weather.com/weather/tenday/l/USNY0996:1:US) and returns a pandas dataframe containing high and low temperature, chance of precipitation, and wind velocity for each day. The code should work for any region's 10 day forecast.\n",
    "\n",
    "(For some reason, there are more than 10 days listed on the 10 day forecast page)"
   ]
  },
  {
   "cell_type": "code",
   "execution_count": 3,
   "metadata": {
    "collapsed": true
   },
   "outputs": [],
   "source": [
    "import pandas as pd\n",
    "from bs4 import BeautifulSoup\n",
    "import requests"
   ]
  },
  {
   "cell_type": "code",
   "execution_count": 4,
   "metadata": {
    "collapsed": false
   },
   "outputs": [
    {
     "data": {
      "text/plain": [
       "<Response [200]>"
      ]
     },
     "execution_count": 4,
     "metadata": {},
     "output_type": "execute_result"
    }
   ],
   "source": [
    "page = requests.get(\"https://weather.com/weather/tenday/l/USNY0996:1:US\")\n",
    "page #response value starting with a 2 means success"
   ]
  },
  {
   "cell_type": "code",
   "execution_count": 5,
   "metadata": {
    "collapsed": false
   },
   "outputs": [],
   "source": [
    "soup = BeautifulSoup(page.content, 'html.parser')"
   ]
  },
  {
   "cell_type": "markdown",
   "metadata": {},
   "source": [
    "### Looking at the Source Code\n",
    "By inspecting the web page, I found the key HTML classes and ids that identified different parts of the forecast (e.g. \"temp\", \"wind\", \"precip\")"
   ]
  },
  {
   "cell_type": "code",
   "execution_count": 12,
   "metadata": {
    "collapsed": false
   },
   "outputs": [
    {
     "data": {
      "text/plain": [
       "['Tonight',\n",
       " 'Fri',\n",
       " 'Sat',\n",
       " 'Sun',\n",
       " 'Mon',\n",
       " 'Tue',\n",
       " 'Wed',\n",
       " 'Thu',\n",
       " 'Fri',\n",
       " 'Sat',\n",
       " 'Sun',\n",
       " 'Mon',\n",
       " 'Tue',\n",
       " 'Wed',\n",
       " 'Thu']"
      ]
     },
     "execution_count": 12,
     "metadata": {},
     "output_type": "execute_result"
    }
   ],
   "source": [
    "daily_forecast = soup.find(id=\"main-DailyForecast-1bbda948-59cc-4040-9a36-d9c1ed37a806\")\n",
    "time_period = daily_forecast.select(\".date-time\")\n",
    "periods = [day.get_text() for day in time_period]\n",
    "\n",
    "periods"
   ]
  },
  {
   "cell_type": "code",
   "execution_count": 13,
   "metadata": {
    "collapsed": false
   },
   "outputs": [
    {
     "data": {
      "text/plain": [
       "(['--',\n",
       "  '84',\n",
       "  '81',\n",
       "  '85',\n",
       "  '91',\n",
       "  '94',\n",
       "  '93',\n",
       "  '89',\n",
       "  '79',\n",
       "  '80',\n",
       "  '82',\n",
       "  '83',\n",
       "  '83',\n",
       "  '81',\n",
       "  '81'],\n",
       " ['66',\n",
       "  '67',\n",
       "  '68',\n",
       "  '73',\n",
       "  '76',\n",
       "  '78',\n",
       "  '76',\n",
       "  '72',\n",
       "  '69',\n",
       "  '70',\n",
       "  '70',\n",
       "  '70',\n",
       "  '69',\n",
       "  '68',\n",
       "  '68'])"
      ]
     },
     "execution_count": 13,
     "metadata": {},
     "output_type": "execute_result"
    }
   ],
   "source": [
    "temps = soup.find_all(class_ =\"temp\")\n",
    "highs = [t.get_text()[0:2] for t in temps][1:]\n",
    "lows = [t.get_text()[3:-1] for t in temps][1:]\n",
    "\n",
    "#If the first period is 'tonight', then there won't be a high temperature listed so the indexing changes slightly\n",
    "if periods[0] == 'Tonight':\n",
    "    lows[0] = temps[1].get_text()[2:-1] \n",
    "highs, lows"
   ]
  },
  {
   "cell_type": "code",
   "execution_count": 14,
   "metadata": {
    "collapsed": false
   },
   "outputs": [
    {
     "data": {
      "text/plain": [
       "['0%',\n",
       " '0%',\n",
       " '0%',\n",
       " '0%',\n",
       " '10%',\n",
       " '10%',\n",
       " '10%',\n",
       " '20%',\n",
       " '50%',\n",
       " '40%',\n",
       " '80%',\n",
       " '50%',\n",
       " '30%',\n",
       " '20%',\n",
       " '30%']"
      ]
     },
     "execution_count": 14,
     "metadata": {},
     "output_type": "execute_result"
    }
   ],
   "source": [
    "precip = soup.find_all(class_ =\"precip\")\n",
    "p_chance = [p.get_text() for p in precip][1:]\n",
    "p_chance"
   ]
  },
  {
   "cell_type": "code",
   "execution_count": 15,
   "metadata": {
    "collapsed": false
   },
   "outputs": [
    {
     "data": {
      "text/plain": [
       "['NW 4 mph ',\n",
       " 'SW 7 mph ',\n",
       " 'SSW 8 mph ',\n",
       " 'SSW 10 mph ',\n",
       " 'WSW 7 mph ',\n",
       " 'WSW 9 mph ',\n",
       " 'WSW 10 mph ',\n",
       " 'WNW 7 mph ',\n",
       " 'ENE 8 mph ',\n",
       " 'E 9 mph ',\n",
       " 'SE 8 mph ',\n",
       " 'WSW 8 mph ',\n",
       " 'NW 6 mph ',\n",
       " 'NNE 6 mph ',\n",
       " 'E 6 mph ']"
      ]
     },
     "execution_count": 15,
     "metadata": {},
     "output_type": "execute_result"
    }
   ],
   "source": [
    "wind = soup.find_all(class_ =\"wind\")\n",
    "w_velocity = [w.get_text() for w in wind][1:]\n",
    "w_velocity"
   ]
  },
  {
   "cell_type": "code",
   "execution_count": 16,
   "metadata": {
    "collapsed": false
   },
   "outputs": [
    {
     "data": {
      "text/html": [
       "<div>\n",
       "<style>\n",
       "    .dataframe thead tr:only-child th {\n",
       "        text-align: right;\n",
       "    }\n",
       "\n",
       "    .dataframe thead th {\n",
       "        text-align: left;\n",
       "    }\n",
       "\n",
       "    .dataframe tbody tr th {\n",
       "        vertical-align: top;\n",
       "    }\n",
       "</style>\n",
       "<table border=\"1\" class=\"dataframe\">\n",
       "  <thead>\n",
       "    <tr style=\"text-align: right;\">\n",
       "      <th></th>\n",
       "      <th>Day</th>\n",
       "      <th>High_Temp</th>\n",
       "      <th>Low_Temp</th>\n",
       "      <th>Precipitation</th>\n",
       "      <th>Wind</th>\n",
       "    </tr>\n",
       "  </thead>\n",
       "  <tbody>\n",
       "    <tr>\n",
       "      <th>0</th>\n",
       "      <td>Tonight</td>\n",
       "      <td>--</td>\n",
       "      <td>66</td>\n",
       "      <td>0%</td>\n",
       "      <td>NW 4 mph</td>\n",
       "    </tr>\n",
       "    <tr>\n",
       "      <th>1</th>\n",
       "      <td>Fri</td>\n",
       "      <td>84</td>\n",
       "      <td>67</td>\n",
       "      <td>0%</td>\n",
       "      <td>SW 7 mph</td>\n",
       "    </tr>\n",
       "    <tr>\n",
       "      <th>2</th>\n",
       "      <td>Sat</td>\n",
       "      <td>81</td>\n",
       "      <td>68</td>\n",
       "      <td>0%</td>\n",
       "      <td>SSW 8 mph</td>\n",
       "    </tr>\n",
       "    <tr>\n",
       "      <th>3</th>\n",
       "      <td>Sun</td>\n",
       "      <td>85</td>\n",
       "      <td>73</td>\n",
       "      <td>0%</td>\n",
       "      <td>SSW 10 mph</td>\n",
       "    </tr>\n",
       "    <tr>\n",
       "      <th>4</th>\n",
       "      <td>Mon</td>\n",
       "      <td>91</td>\n",
       "      <td>76</td>\n",
       "      <td>10%</td>\n",
       "      <td>WSW 7 mph</td>\n",
       "    </tr>\n",
       "    <tr>\n",
       "      <th>5</th>\n",
       "      <td>Tue</td>\n",
       "      <td>94</td>\n",
       "      <td>78</td>\n",
       "      <td>10%</td>\n",
       "      <td>WSW 9 mph</td>\n",
       "    </tr>\n",
       "    <tr>\n",
       "      <th>6</th>\n",
       "      <td>Wed</td>\n",
       "      <td>93</td>\n",
       "      <td>76</td>\n",
       "      <td>10%</td>\n",
       "      <td>WSW 10 mph</td>\n",
       "    </tr>\n",
       "    <tr>\n",
       "      <th>7</th>\n",
       "      <td>Thu</td>\n",
       "      <td>89</td>\n",
       "      <td>72</td>\n",
       "      <td>20%</td>\n",
       "      <td>WNW 7 mph</td>\n",
       "    </tr>\n",
       "    <tr>\n",
       "      <th>8</th>\n",
       "      <td>Fri</td>\n",
       "      <td>79</td>\n",
       "      <td>69</td>\n",
       "      <td>50%</td>\n",
       "      <td>ENE 8 mph</td>\n",
       "    </tr>\n",
       "    <tr>\n",
       "      <th>9</th>\n",
       "      <td>Sat</td>\n",
       "      <td>80</td>\n",
       "      <td>70</td>\n",
       "      <td>40%</td>\n",
       "      <td>E 9 mph</td>\n",
       "    </tr>\n",
       "    <tr>\n",
       "      <th>10</th>\n",
       "      <td>Sun</td>\n",
       "      <td>82</td>\n",
       "      <td>70</td>\n",
       "      <td>80%</td>\n",
       "      <td>SE 8 mph</td>\n",
       "    </tr>\n",
       "    <tr>\n",
       "      <th>11</th>\n",
       "      <td>Mon</td>\n",
       "      <td>83</td>\n",
       "      <td>70</td>\n",
       "      <td>50%</td>\n",
       "      <td>WSW 8 mph</td>\n",
       "    </tr>\n",
       "    <tr>\n",
       "      <th>12</th>\n",
       "      <td>Tue</td>\n",
       "      <td>83</td>\n",
       "      <td>69</td>\n",
       "      <td>30%</td>\n",
       "      <td>NW 6 mph</td>\n",
       "    </tr>\n",
       "    <tr>\n",
       "      <th>13</th>\n",
       "      <td>Wed</td>\n",
       "      <td>81</td>\n",
       "      <td>68</td>\n",
       "      <td>20%</td>\n",
       "      <td>NNE 6 mph</td>\n",
       "    </tr>\n",
       "    <tr>\n",
       "      <th>14</th>\n",
       "      <td>Thu</td>\n",
       "      <td>81</td>\n",
       "      <td>68</td>\n",
       "      <td>30%</td>\n",
       "      <td>E 6 mph</td>\n",
       "    </tr>\n",
       "  </tbody>\n",
       "</table>\n",
       "</div>"
      ],
      "text/plain": [
       "        Day High_Temp Low_Temp Precipitation         Wind\n",
       "0   Tonight        --       66            0%    NW 4 mph \n",
       "1       Fri        84       67            0%    SW 7 mph \n",
       "2       Sat        81       68            0%   SSW 8 mph \n",
       "3       Sun        85       73            0%  SSW 10 mph \n",
       "4       Mon        91       76           10%   WSW 7 mph \n",
       "5       Tue        94       78           10%   WSW 9 mph \n",
       "6       Wed        93       76           10%  WSW 10 mph \n",
       "7       Thu        89       72           20%   WNW 7 mph \n",
       "8       Fri        79       69           50%   ENE 8 mph \n",
       "9       Sat        80       70           40%     E 9 mph \n",
       "10      Sun        82       70           80%    SE 8 mph \n",
       "11      Mon        83       70           50%   WSW 8 mph \n",
       "12      Tue        83       69           30%    NW 6 mph \n",
       "13      Wed        81       68           20%   NNE 6 mph \n",
       "14      Thu        81       68           30%     E 6 mph "
      ]
     },
     "execution_count": 16,
     "metadata": {},
     "output_type": "execute_result"
    }
   ],
   "source": [
    "weather = pd.DataFrame({\"Day\":periods, \"High_Temp\":highs, \"Low_Temp\":lows, \"Precipitation\": p_chance, \"Wind\": w_velocity})\n",
    "weather"
   ]
  },
  {
   "cell_type": "markdown",
   "metadata": {},
   "source": [
    "### Using the data\n",
    "\n",
    "Now that this data is in a pandas dataframe, we can use it for analysis like finding summary statistics or more complex things."
   ]
  },
  {
   "cell_type": "code",
   "execution_count": 17,
   "metadata": {
    "collapsed": false
   },
   "outputs": [
    {
     "name": "stdout",
     "output_type": "stream",
     "text": [
      "count    15.000000\n",
      "mean     70.666667\n",
      "std       3.598942\n",
      "min      66.000000\n",
      "25%      68.000000\n",
      "50%      70.000000\n",
      "75%      72.500000\n",
      "max      78.000000\n",
      "Name: Low_Temp, dtype: float64\n"
     ]
    }
   ],
   "source": [
    "weather['Low_Temp'] = list(map(int,weather['Low_Temp'])) #converting the string values to integers\n",
    "print(weather['Low_Temp'].describe())"
   ]
  }
 ],
 "metadata": {
  "kernelspec": {
   "display_name": "Python [py36]",
   "language": "python",
   "name": "Python [py36]"
  },
  "language_info": {
   "codemirror_mode": {
    "name": "ipython",
    "version": 3
   },
   "file_extension": ".py",
   "mimetype": "text/x-python",
   "name": "python",
   "nbconvert_exporter": "python",
   "pygments_lexer": "ipython3",
   "version": "3.6.1"
  }
 },
 "nbformat": 4,
 "nbformat_minor": 2
}
